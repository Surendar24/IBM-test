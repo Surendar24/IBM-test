{
 "cells": [
  {
   "cell_type": "markdown",
   "metadata": {
    "collapsed": true
   },
   "source": [
    "# My Jupyter Notebook on IBM Watson Studio"
   ]
  },
  {
   "cell_type": "markdown",
   "metadata": {},
   "source": [
    "**Surendar Raj**\n",
    "\n",
    "Im currently a Mtech student"
   ]
  },
  {
   "cell_type": "markdown",
   "metadata": {},
   "source": [
    "*i would like to use data science in health care sector*"
   ]
  },
  {
   "cell_type": "markdown",
   "metadata": {},
   "source": [
    "### Sum of 2 numbers\n"
   ]
  },
  {
   "cell_type": "code",
   "execution_count": 1,
   "metadata": {},
   "outputs": [
    {
     "data": {
      "text/plain": [
       "True"
      ]
     },
     "execution_count": 1,
     "metadata": {},
     "output_type": "execute_result"
    }
   ],
   "source": [
    "def add(x,y) :\n",
    "    return(x+y)\n",
    "add(2,3)==2+3"
   ]
  },
  {
   "cell_type": "markdown",
   "metadata": {},
   "source": [
    ">this is blocked quote\n",
    "\n",
    "- one\n",
    "2.two\n",
    "- three\n",
    "4.four\n"
   ]
  },
  {
   "cell_type": "markdown",
   "metadata": {},
   "source": [
    "|Name|Address|Salary|\n",
    "|-----|-------|------|\n",
    "|Hanna|Brisbane|4000| \n",
    "|Adam|Sydney|5000|"
   ]
  },
  {
   "cell_type": "markdown",
   "metadata": {},
   "source": [
    "__[Link to Google](https://www.google.com)__"
   ]
  }
 ],
 "metadata": {
  "kernelspec": {
   "display_name": "Python 3.9",
   "language": "python",
   "name": "python3"
  },
  "language_info": {
   "codemirror_mode": {
    "name": "ipython",
    "version": 3
   },
   "file_extension": ".py",
   "mimetype": "text/x-python",
   "name": "python",
   "nbconvert_exporter": "python",
   "pygments_lexer": "ipython3",
   "version": "3.9.12"
  }
 },
 "nbformat": 4,
 "nbformat_minor": 1
}
